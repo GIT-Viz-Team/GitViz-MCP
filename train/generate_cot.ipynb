{
 "cells": [
  {
   "cell_type": "code",
   "execution_count": 11,
   "metadata": {},
   "outputs": [],
   "source": [
    "REASONING_SYSTEM_PROMPT = \"\"\"Your role is to generate a detailed Chain of Thought (CoT) reasoning process for a Git-related problem where you already know the correct command or sequence of commands.\n",
    "\n",
    "I will provide you with a Git-related user request and its correct response (e.g., the appropriate Git command or explanation). Your task is to generate the detailed thinking process that would lead to this response.\n",
    "\n",
    "Please structure your response using the following format:\n",
    "<think>\n",
    "{detailed step-by-step reasoning process that leads to the given Git command or explanation}\n",
    "</think>\n",
    "\n",
    "<answer>\n",
    "{the given response - repeat exactly as provided}\n",
    "</answer>\n",
    "\n",
    "Your thinking process should clearly identify the user’s intention, break it down into Git concepts, and show why the selected command(s) solve the problem. Mention any assumptions or alternatives when relevant.\n",
    "\"\"\"\n",
    "\n",
    "SYSTEM_PROMPT = \"\"\"Your role is to generate a detailed Chain of Thought (CoT) reasoning process for a Git-related problem where you already know the correct command or sequence of commands.\"\"\""
   ]
  },
  {
   "cell_type": "code",
   "execution_count": 12,
   "metadata": {},
   "outputs": [],
   "source": [
    "question = \"\"\"Question:Create a new branch for my feature\n",
    "Answer: To create a new branch for your feature, use the following Git command:\n",
    "\n",
    "git branch feature/your-feature-name\n",
    "\n",
    "Replace your-feature-name with a descriptive name for your feature. This will create a new branch, but you'll still be on the current branch.\n",
    "\n",
    "To switch to the new branch, use:\n",
    "\n",
    "git checkout feature/your-feature-name\n",
    "\n",
    "Alternatively, you can create and switch to the new branch in one step with:\n",
    "\n",
    "git checkout -b feature/your-feature-name\n",
    "\"\"\""
   ]
  },
  {
   "cell_type": "code",
   "execution_count": 14,
   "metadata": {},
   "outputs": [
    {
     "name": "stdout",
     "output_type": "stream",
     "text": [
      "<think>\n",
      "Okay, the user wants to create a new branch for their feature. Let's think about how Git handles branches.\n",
      "\n",
      "First, the basic way to create a branch is using 'git branch <name>'. That creates the branch but doesn't switch to it. So the user would need to run 'git checkout' next. \n",
      "\n",
      "Wait, but maybe they want to switch right away. Oh right, there's the '-b' option with checkout. So combining creation and checkout into one command with 'git checkout -b' would be more efficient. \n",
      "\n",
      "Also, naming conventions are important. Using 'feature/' prefix helps organize branches. So the answer should include both methods: creating the branch first, then checking out, and the combined command. \n",
      "\n",
      "Need to mention replacing 'your-feature-name' with an actual name. Also note that after using 'git branch', they remain on the current branch until they checkout. The alternative one-liner is probably better for most cases. Let me structure the answer to present both options clearly.\n",
      "</think>\n",
      "\n",
      "<answer>\n",
      "To create a new branch for your feature, use the following Git command:\n",
      "\n",
      "git branch feature/your-feature-name\n",
      "\n",
      "Replace your-feature-name with a descriptive name for your feature. This will create a new branch, but you'll still be on the current branch.\n",
      "\n",
      "To switch to the new branch, use:\n",
      "\n",
      "git checkout feature/your-feature-name\n",
      "\n",
      "Alternatively, you can create and switch to the new branch in one step with:\n",
      "\n",
      "git checkout -b feature/your-feature-name\n",
      "</answer>"
     ]
    }
   ],
   "source": [
    "from openai import OpenAI\n",
    "\n",
    "client = OpenAI(\n",
    "  base_url = \"https://integrate.api.nvidia.com/v1\",\n",
    "  api_key = \"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\"\n",
    ")\n",
    "\n",
    "def model_stream(model=\"deepseek-ai/deepseek-r1\", messages=[], **kwargs):\n",
    "  completion = client.chat.completions.create(\n",
    "    model=model,\n",
    "    messages=messages,\n",
    "    stream=True,\n",
    "    **kwargs\n",
    "  )\n",
    "\n",
    "  for chunk in completion:\n",
    "    if chunk.choices[0].delta.content is not None:\n",
    "      yield chunk.choices[0].delta.content\n",
    "\n",
    "messages = [\n",
    "  {\"role\": \"system\", \"content\": REASONING_SYSTEM_PROMPT},\n",
    "  {\"role\": \"user\", \"content\": question},\n",
    "]\n",
    "\n",
    "for chunk in model_stream(messages=messages):\n",
    "    print(chunk, end=\"\")"
   ]
  }
 ],
 "metadata": {
  "kernelspec": {
   "display_name": "ollama",
   "language": "python",
   "name": "python3"
  },
  "language_info": {
   "codemirror_mode": {
    "name": "ipython",
    "version": 3
   },
   "file_extension": ".py",
   "mimetype": "text/x-python",
   "name": "python",
   "nbconvert_exporter": "python",
   "pygments_lexer": "ipython3",
   "version": "3.13.1"
  }
 },
 "nbformat": 4,
 "nbformat_minor": 2
}
