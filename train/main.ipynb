{
 "cells": [
  {
   "cell_type": "code",
   "execution_count": 2,
   "metadata": {},
   "outputs": [
    {
     "name": "stdout",
     "output_type": "stream",
     "text": []
    },
    {
     "name": "stdout",
     "output_type": "stream",
     "text": []
    },
    {
     "name": "stdout",
     "output_type": "stream",
     "text": []
    }
   ],
   "source": [
    "from datasets import load_dataset\n",
    "import openai\n",
    "import os\n",
    "\n",
    "# Define the dataset to download\n",
    "dataset_name = \"hesamation/git-prompt\"\n",
    "\n",
    "# Create a directory to save the dataset\n",
    "save_dir = \"./dataset/git-prompt\"\n",
    "os.makedirs(save_dir, exist_ok=True)\n",
    "\n",
    "print(f\"Downloading {dataset_name} dataset...\")\n",
    "\n",
    "# Load the dataset\n",
    "dataset = load_dataset(dataset_name)\n",
    "\n",
    "print(f\"Dataset info:\\n{dataset}\")\n",
    "\n",
    "# Save the dataset to a local CSV file\n",
    "csv_path = os.path.join(save_dir, \"git_prompt.csv\")\n",
    "dataset[\"train\"].to_csv(csv_path)"
   ]
  },
  {
   "cell_type": "code",
   "execution_count": 6,
   "metadata": {},
   "outputs": [
    {
     "name": "stdout",
     "output_type": "stream",
     "text": []
    }
   ],
   "source": [
    "from openai import OpenAI\n",
    "\n",
    "client = OpenAI(\n",
    "  base_url = \"https://integrate.api.nvidia.com/v1\",\n",
    "  api_key = \"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\"\n",
    ")\n",
    "\n",
    "completion = client.chat.completions.create(\n",
    "  model=\"deepseek-ai/deepseek-r1\",\n",
    "  messages=[{\"role\":\"user\",\"content\":dataset[\"train\"][0][\"instruction\"]}],\n",
    "  temperature=0.6,\n",
    "  top_p=0.7,\n",
    "  max_tokens=4096,\n",
    "  stream=True\n",
    ")\n",
    "\n",
    "for chunk in completion:\n",
    "  if chunk.choices[0].delta.content is not None:\n",
    "    print(chunk.choices[0].delta.content, end=\"\")"
   ]
  }
 ],
 "metadata": {
  "kernelspec": {
   "display_name": "dl",
   "language": "python",
   "name": "python3"
  },
  "language_info": {
   "codemirror_mode": {
    "name": "ipython",
    "version": 3
   },
   "file_extension": ".py",
   "mimetype": "text/x-python",
   "name": "python",
   "nbconvert_exporter": "python",
   "pygments_lexer": "ipython3",
   "version": "3.12.7"
  }
 },
 "nbformat": 4,
 "nbformat_minor": 2
}
